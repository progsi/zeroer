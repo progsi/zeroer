{
 "cells": [
  {
   "cell_type": "code",
   "execution_count": null,
   "id": "ac0e661c",
   "metadata": {},
   "outputs": [],
   "source": [
    "import pandas as pd\n",
    "\n",
    "YT_MUSIC_RAW_PATH = 'datasets/yt_music_raw/'\n",
    "\n",
    "df_annotated = pd.read_csv(f'{YT_MUSIC_RAW_PATH}annotated.csv', sep=';')\n",
    "df_final = pd.read_csv(f'{YT_MUSIC_RAW_PATH}df_final.csv', sep=';')\n",
    "df_paper_annotated = pd.read_csv(f'{YT_MUSIC_RAW_PATH}paper_manual_eval.csv', sep=';')\n",
    "df_sets_video_results = pd.read_csv(f'{YT_MUSIC_RAW_PATH}sets_video_results.csv', sep=';')\n",
    " "
   ]
  },
  {
   "cell_type": "markdown",
   "id": "0b733cf9",
   "metadata": {},
   "source": [
    "# MOVE-labeled Dataset"
   ]
  },
  {
   "cell_type": "code",
   "execution_count": null,
   "id": "17f45d54",
   "metadata": {},
   "outputs": [],
   "source": [
    "import os \n",
    "\n",
    "DATASET_PATH = 'datasets/yt_music_move'\n",
    "isExist = os.path.exists(DATASET_PATH)\n",
    "\n",
    "if not isExist:\n",
    "    os.makedirs(DATASET_PATH)\n",
    "\n",
    "df_seed = df_final[['work', 'title', 'artist']].drop_duplicates()\n",
    "df_seed.columns = ['id', 'title', 'artist']\n",
    "df_seed.to_csv(f'{DATASET_PATH}/seed.csv', index=False)\n",
    "\n",
    "df_yt = df_final[['yt_id', 'yt_title', 'yt_channel']].drop_duplicates()\n",
    "df_yt.columns = ['id', 'title', 'artist']\n",
    "df_yt.to_csv(f'{DATASET_PATH}/yt.csv', index=False)\n",
    "\n",
    "\n",
    "df_matches = df_final.loc[(df_final[\"score\"] > 0) & (df_final[\"score\"] <= 0.7), ['work', 'yt_id']].drop_duplicates()\n",
    "df_matches.columns = ['seed_id', 'yt_id']\n",
    "df_matches.to_csv(f'{DATASET_PATH}/matches_seed_yt.csv', index=False)\n",
    "\n"
   ]
  },
  {
   "cell_type": "code",
   "execution_count": null,
   "id": "2119e279",
   "metadata": {},
   "outputs": [],
   "source": []
  }
 ],
 "metadata": {
  "language_info": {
   "name": "python",
   "pygments_lexer": "ipython3"
  }
 },
 "nbformat": 4,
 "nbformat_minor": 5
}
